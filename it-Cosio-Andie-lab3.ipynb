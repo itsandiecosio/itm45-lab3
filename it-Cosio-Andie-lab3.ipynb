{
 "cells": [
  {
   "cell_type": "code",
   "execution_count": 5,
   "metadata": {},
   "outputs": [
    {
     "name": "stdout",
     "output_type": "stream",
     "text": [
      "Type in the username to check if you follow them, if they follow you, or if you are friends.\n",
      "Username: potatoes\n"
     ]
    },
    {
     "data": {
      "text/plain": [
       "'You and potatoes are friends!'"
      ]
     },
     "execution_count": 5,
     "metadata": {},
     "output_type": "execute_result"
    }
   ],
   "source": [
    "# Problem 1\n",
    "\n",
    "print('Type in the username to check if you follow them, if they follow you, or if you are friends.')\n",
    "user = str(input('Username: '))\n",
    "\n",
    "followers_list = [\n",
    "    \"chums\", \n",
    "    \"jobenilagan\", \n",
    "    \"bongolpoc\"\n",
    "]\n",
    "follows_list = [\n",
    "    \"joeilagan\", \n",
    "    \"gabylucas\",\n",
    "    \"sammyeong\",\n",
    "    \"andiecosio\",\n",
    "    \"teopeneyra\",\n",
    "    \"javiviko\",\n",
    "    \"mochimochi\",\n",
    "]\n",
    "friends_list = [\n",
    "    \"potatoes\",\n",
    "    \"potatochips\",\n",
    "    \"elonmusk\",\n",
    "    \"papernote\"\n",
    "]\n",
    "\n",
    "\n",
    "def relationship_status(user):\n",
    "    if user in followers_list:\n",
    "        return user + ' is a follower.'\n",
    "    elif user in follows_list:\n",
    "        return 'You follow ' + user\n",
    "    elif user in friends_list:\n",
    "        return 'You and ' + user + ' are friends!'\n",
    "\n",
    "relationship_status(user)"
   ]
  },
  {
   "cell_type": "code",
   "execution_count": null,
   "metadata": {},
   "outputs": [],
   "source": [
    "# Problem 2\n",
    "# Write code that checks a possible winner for the current state of a 3x3 tic-tac-toe board.\n",
    "board_no = (input('Winners? (y/n)'))\n",
    "\n",
    "board1 = [\n",
    "['X','X','O'],\n",
    "['O','X','O'],\n",
    "['O','','X'],\n",
    "]\n",
    "\n",
    "board2 = [\n",
    "['X','X','O'],\n",
    "['O','X','O'],\n",
    "['','O','X'],\n",
    "]\n",
    "\n",
    "board3 = [\n",
    "['O','X','O'],\n",
    "['','O','X'],\n",
    "['X','X','O'],\n",
    "]\n",
    "\n",
    "board4 = [\n",
    "['X','X','X'],\n",
    "['O','X','O'],\n",
    "['O','','O'],\n",
    "]\n",
    "\n",
    "board5 = [\n",
    "['X','X','O'],\n",
    "['O','X','O'],\n",
    "['X','','O'],\n",
    "]\n",
    "\n",
    "board6 = [\n",
    "['X','X','O'],\n",
    "['O','X','O'],\n",
    "['X','',''],\n",
    "]\n",
    "\n",
    "def get_winner(board):\n",
    "    # across\n",
    "    if ['X', 'X', 'X'] in board:\n",
    "        return 'This Board has a winner.'\n",
    "    elif ['O','O','O'] in board:\n",
    "        return 'This Board has a winner'\n",
    "    elif ['X','',''] in board:\n",
    "        return 'This Board has a POSSIBLE winner.'\n",
    "    elif ['',] in board:\n",
    "        return 'This Board has a POSSIBLE winner.'\n",
    "\n",
    "# Call get_winner(board_) and replace '_' with numbers 1-6\n",
    "# Failed to do downwards and diagonal"
   ]
  },
  {
   "cell_type": "code",
   "execution_count": 23,
   "metadata": {},
   "outputs": [
    {
     "name": "stdout",
     "output_type": "stream",
     "text": [
      "Enter starting location: admu\n",
      "Enter destination: upd\n",
      "Your ETA is...\n"
     ]
    },
    {
     "data": {
      "text/plain": [
       "90"
      ]
     },
     "execution_count": 23,
     "metadata": {},
     "output_type": "execute_result"
    }
   ],
   "source": [
    "source = input('Enter starting location: ')\n",
    "destination = input('Enter destination: ')\n",
    "\n",
    "route1 = [(\"upd\",\"admu\")]\n",
    "route1_time = 10\n",
    "route2 = [(\"admu\",\"dlsu\")]\n",
    "route2_time = 35\n",
    "route3 = [(\"dlsu\",\"upd\")]\n",
    "route3_time = 55\n",
    "route4 = [(\"upd\",\"dlsu\")]\n",
    "route4_time = 45\n",
    "route5 = [(\"dlsu\",\"admu\")]\n",
    "route5_time = 65\n",
    "route6 = [(\"admu\",\"upd\")]\n",
    "route6_time = 90\n",
    "\n",
    "def eta(source,destination):\n",
    "    if (source,destination) in route1:\n",
    "        return route1_time\n",
    "    elif (source,destination) in route2:\n",
    "        return route2_time\n",
    "    elif (source,destination) in route3:\n",
    "        return route3_time\n",
    "    elif (source,destination) in route4:\n",
    "        return route4_time\n",
    "    elif (source,destination) in route5:\n",
    "        return route5_time\n",
    "    elif (source,destination) in route6:\n",
    "        return route6_time\n",
    "\n",
    "print(\"Your ETA is...\")\n",
    "eta(source,destination)"
   ]
  }
 ],
 "metadata": {
  "kernelspec": {
   "display_name": "Python 3",
   "language": "python",
   "name": "python3"
  },
  "language_info": {
   "codemirror_mode": {
    "name": "ipython",
    "version": 3
   },
   "file_extension": ".py",
   "mimetype": "text/x-python",
   "name": "python",
   "nbconvert_exporter": "python",
   "pygments_lexer": "ipython3",
   "version": "3.8.3"
  }
 },
 "nbformat": 4,
 "nbformat_minor": 4
}
